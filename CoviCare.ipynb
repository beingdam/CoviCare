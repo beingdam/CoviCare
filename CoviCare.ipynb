{
  "nbformat": 4,
  "nbformat_minor": 0,
  "metadata": {
    "colab": {
      "name": "CoviCare.ipynb",
      "provenance": [],
      "collapsed_sections": [],
      "authorship_tag": "ABX9TyOQ8IhCYrzO7EIgLI3GnKV1"
    },
    "kernelspec": {
      "name": "python3",
      "display_name": "Python 3"
    },
    "language_info": {
      "name": "python"
    },
    "accelerator": "GPU"
  },
  "cells": [
    {
      "cell_type": "markdown",
      "metadata": {
        "id": "h1eAkPhY1OrF"
      },
      "source": [
        "# <b>Covid 19 Detection from X-Ray Images</b>\n",
        "---\n",
        "\n",
        "## Developed by Team Matrix (Soumya Dam & Monimoy Saha)\n",
        "---\n",
        "Dataset: https://www.kaggle.com/paultimothymooney/chest-xray-pneumonia"
      ]
    },
    {
      "cell_type": "markdown",
      "metadata": {
        "id": "1ByxxVYDh2c7"
      },
      "source": [
        "## Mounting the drive"
      ]
    },
    {
      "cell_type": "code",
      "metadata": {
        "id": "aakUs4-Wh-l9"
      },
      "source": [
        "from google.colab import drive\n",
        "drive.mount('/content/gdrive')"
      ],
      "execution_count": null,
      "outputs": []
    },
    {
      "cell_type": "markdown",
      "metadata": {
        "id": "3H6ofmzEhkyj"
      },
      "source": [
        "## Unzipping the file containing Dataset"
      ]
    },
    {
      "cell_type": "code",
      "metadata": {
        "id": "4gziZD-ThEPG"
      },
      "source": [
        "!unzip -q \"/content/Data.zip\""
      ],
      "execution_count": null,
      "outputs": []
    },
    {
      "cell_type": "markdown",
      "metadata": {
        "id": "rsFDd5NJOumi"
      },
      "source": [
        "## Import all the necessary Libraries"
      ]
    },
    {
      "cell_type": "code",
      "metadata": {
        "id": "P_SdDyvgmoMS"
      },
      "source": [
        "import matplotlib.pyplot as plt\n",
        "import argparse\n",
        "import os\n",
        "from tensorflow.keras.preprocessing.image import ImageDataGenerator\n",
        "from tensorflow.keras.applications import VGG16\n",
        "from tensorflow.keras.layers import AveragePooling2D\n",
        "from tensorflow.keras.layers import Dropout\n",
        "from tensorflow.keras.layers import Flatten\n",
        "from tensorflow.keras.layers import Dense\n",
        "from tensorflow.keras.layers import Input\n",
        "from tensorflow.keras.models import Model\n",
        "from tensorflow.keras.optimizers import Adam\n",
        "from tensorflow.keras.utils import to_categorical\n",
        "from sklearn.preprocessing import LabelBinarizer\n",
        "from sklearn.model_selection import train_test_split"
      ],
      "execution_count": null,
      "outputs": []
    },
    {
      "cell_type": "markdown",
      "metadata": {
        "id": "07MYSj6nO3KU"
      },
      "source": [
        "## Initialize the Epochs and the Batch Size"
      ]
    },
    {
      "cell_type": "code",
      "metadata": {
        "id": "z3uydTiHmoPK"
      },
      "source": [
        "INIT_LR = 1e-3\n",
        "EPOCHS = 10\n",
        "BS = 8\n",
        "dataset = \"/content/covid_data\"\n",
        "args={}\n",
        "args[\"dataset\"]=dataset"
      ],
      "execution_count": null,
      "outputs": []
    },
    {
      "cell_type": "markdown",
      "metadata": {
        "id": "70sUAlkkO89n"
      },
      "source": [
        "## Set Labels into the images"
      ]
    },
    {
      "cell_type": "code",
      "metadata": {
        "id": "2YRfxTYYmoSY"
      },
      "source": [
        "import numpy as np\n",
        "import cv2\n",
        "iPaths = list(paths.list_images(args[\"dataset\"]))\n",
        "data = []\n",
        "labels = []\n",
        "for iPath in iPaths:\n",
        "    label = iPath.split(os.path.sep)[-2]\n",
        "    image = cv2.imread(iPath)\n",
        "    image = cv2.cvtColor(image, cv2.COLOR_BGR2RGB)\n",
        "    image = cv2.resize(image, (224, 224))\n",
        "    data.append(image)\n",
        "    labels.append(label)\n",
        "data = np.array(data) / 255.0\n",
        "labels = np.array(labels)"
      ],
      "execution_count": null,
      "outputs": []
    },
    {
      "cell_type": "code",
      "metadata": {
        "id": "CjsdeQ1VmoVN"
      },
      "source": [
        "import os\n",
        "Data_Dir = \"Data//\"\n",
        "Cimages = os.listdir(Data_Dir+\"Covid\")\n",
        "Nimages = os.listdir(Data_Dir+\"Normal\")\n",
        "import matplotlib.pyplot as plt\n",
        "import cv2\n",
        "import skimage\n",
        "from skimage.transform import resize\n",
        "import numpy as np\n",
        "def plotter(i):\n",
        "    normal = cv2.imread(Data_Dir+\"Normal//\"+Nimages[i])\n",
        "    normal = skimage.transform.resize(normal, (150, 150, 3))\n",
        "    coronavirus = cv2.imread(Data_Dir+\"Covid//\"+Cimages[i])\n",
        "    coronavirus = skimage.transform.resize(coronavirus, (150, 150, 3) , mode = 'reflect')\n",
        "    pair = np.concatenate((normal, coronavirus), axis=1)\n",
        "    print(\"Normal Chest X-ray Vs Covid-19 Chest X-ray\")\n",
        "    plt.figure(figsize=(10,5))\n",
        "    plt.imshow(pair)\n",
        "    plt.show()\n",
        "for i in range(0,5):\n",
        "    plotter(i)"
      ],
      "execution_count": null,
      "outputs": []
    },
    {
      "cell_type": "markdown",
      "metadata": {
        "id": "L_BGwlxNPGuR"
      },
      "source": [
        "## Perform One Hot Encoding into the Labels"
      ]
    },
    {
      "cell_type": "code",
      "metadata": {
        "id": "IS1hcvZumoYN"
      },
      "source": [
        "LB = LabelBinarizer()\n",
        "labels = LB.fit_transform(labels)\n",
        "labels = to_categorical(labels); print(labels)\n",
        "(X_train, X_test, Y_train, Y_test) = train_test_split(data, labels,test_size=0.20, stratify=labels, random_state=42)\n",
        "trainAug = ImageDataGenerator(\n",
        "    rotation_range=15,\n",
        "    fill_mode=\"nearest\")"
      ],
      "execution_count": null,
      "outputs": []
    },
    {
      "cell_type": "markdown",
      "metadata": {
        "id": "1Fj0YFAbPOkB"
      },
      "source": [
        "## The VGG Model"
      ]
    },
    {
      "cell_type": "code",
      "metadata": {
        "id": "hD9mqQ6amobu"
      },
      "source": [
        "bModel = VGG16(weights=\"imagenet\", include_top=False,input_tensor=Input(shape=(224, 224, 3)))\n",
        "hModel = bModel.output #head_Model\n",
        "hModel = AveragePooling2D(pool_size=(4, 4))(hModel)\n",
        "hModel = Flatten(name=\"flatten\")(hModel)\n",
        "hModel = Dense(64, activation=\"relu\")(hModel)\n",
        "hModel = Dropout(0.5)(hModel)\n",
        "hModel = Dense(2, activation=\"softmax\")(hModel)\n",
        "model = Model(inputs=bModel.input, outputs=hModel)\n",
        "for layer in bModel.layers:\n",
        "    layer.trainable = False"
      ],
      "execution_count": null,
      "outputs": []
    },
    {
      "cell_type": "code",
      "metadata": {
        "id": "5ulGRXOPmolT"
      },
      "source": [
        "X_train.shape,X_test.shape,Y_train.shape,Y_test.shape"
      ],
      "execution_count": null,
      "outputs": []
    },
    {
      "cell_type": "code",
      "metadata": {
        "id": "hA2kTAexmoo5"
      },
      "source": [
        "W_grid = 4 #width\n",
        "L_grid = 4 #lenth\n",
        "fig, axes = plt.subplots(L_grid, W_grid, figsize = (25, 25))\n",
        "axes = axes.ravel()\n",
        "n_training = len(X_train)\n",
        "for i in np.arange(0, L_grid * W_grid):\n",
        "    index = np.random.randint(0, n_training)\n",
        "    axes[i].imshow(X_train[index])\n",
        "    axes[i].set_title(Y_train[index])\n",
        "    axes[i].axis('off')\n",
        "plt.subplots_adjust(hspace = 0.4)"
      ],
      "execution_count": null,
      "outputs": []
    },
    {
      "cell_type": "markdown",
      "metadata": {
        "id": "X49GO4ihPgB2"
      },
      "source": [
        "## Train and Compile"
      ]
    },
    {
      "cell_type": "code",
      "metadata": {
        "id": "rTMT6XjCneB6"
      },
      "source": [
        "opt = Adam(lr=INIT_LR, decay=INIT_LR / EPOCHS)\n",
        "model.compile(loss=\"binary_crossentropy\", optimizer=opt,metrics=[\"accuracy\"])\n",
        "print(\"Compiling Starts\")\n",
        "R = model.fit_generator(\n",
        "    trainAug.flow(X_train, Y_train, batch_size=BS),\n",
        "    steps_per_epoch=len(X_train) // BS,\n",
        "    validation_data=(X_test, Y_test),\n",
        "    validation_steps=len(X_test) // BS,\n",
        "    epochs=EPOCHS)"
      ],
      "execution_count": null,
      "outputs": []
    },
    {
      "cell_type": "markdown",
      "metadata": {
        "id": "VTQMG-IZPpI9"
      },
      "source": [
        "## Test Set Prediction & Comparision with Test Data"
      ]
    },
    {
      "cell_type": "code",
      "metadata": {
        "id": "7hpGD-B3neZN"
      },
      "source": [
        "L = 6\n",
        "W = 5\n",
        "fig, axes = plt.subplots(L, W, figsize = (12, 12))\n",
        "axes = axes.ravel()\n",
        "y_pred = model.predict(X_test, batch_size=BS)\n",
        "for i in np.arange(0,L*W):\n",
        "    axes[i].imshow(X_test[i])\n",
        "    axes[i].set_title('Prediction = {}\\n True = {}'.format(y_pred.argmax(axis=1)[i], Y_test.argmax(axis=1)[i]))\n",
        "    axes[i].axis('off')\n",
        "plt.subplots_adjust(wspace = 1, hspace=1)"
      ],
      "execution_count": null,
      "outputs": []
    },
    {
      "cell_type": "markdown",
      "metadata": {
        "id": "1mWtbRnyP0j8"
      },
      "source": [
        "## Classification Report"
      ]
    },
    {
      "cell_type": "code",
      "metadata": {
        "id": "AEm2vVoanecv"
      },
      "source": [
        "from sklearn.metrics import classification_report\n",
        "y_pred = model.predict(X_test, batch_size=BS)\n",
        "y_pred = np.argmax(y_pred, axis=1)\n",
        "print(classification_report(Y_test.argmax(axis=1), y_pred,target_names=LB.classes_))"
      ],
      "execution_count": null,
      "outputs": []
    },
    {
      "cell_type": "markdown",
      "metadata": {
        "id": "ynT74vcbQAeI"
      },
      "source": [
        "## Confusion Matrix"
      ]
    },
    {
      "cell_type": "code",
      "metadata": {
        "id": "aSlN552Qns4O"
      },
      "source": [
        "from sklearn.metrics import confusion_matrix\n",
        "cm = confusion_matrix(Y_test.argmax(axis=1), y_pred)\n",
        "total = sum(sum(cm))\n",
        "acc = (cm[0, 0] + cm[1, 1]) / total\n",
        "sensitivity = cm[0, 0] / (cm[0, 0] + cm[0, 1])\n",
        "specificity = cm[1, 1] / (cm[1, 0] + cm[1, 1])\n",
        "print(cm)\n",
        "print(\"acc: {:.4f}\".format(acc))\n",
        "print(\"sensitivity: {:.4f}\".format(sensitivity))\n",
        "print(\"specificity: {:.4f}\".format(specificity))"
      ],
      "execution_count": null,
      "outputs": []
    },
    {
      "cell_type": "markdown",
      "metadata": {
        "id": "6PiZuj7WQIKk"
      },
      "source": [
        "## Plot the Loss and Accuracy"
      ]
    },
    {
      "cell_type": "code",
      "metadata": {
        "id": "cNcMiLQvnwPo"
      },
      "source": [
        "# plot the loss\n",
        "plt.plot(R.history['loss'], label='train loss')\n",
        "plt.plot(R.history['val_loss'], label='val loss')\n",
        "plt.legend()\n",
        "plt.show()\n",
        "plt.savefig('Validation_loss')\n",
        "\n",
        "# plot the accuracy\n",
        "plt.plot(R.history['accuracy'], label='train acc')\n",
        "plt.plot(R.history['val_accuracy'], label='val acc')\n",
        "plt.legend()\n",
        "plt.show()\n",
        "plt.savefig('Validation_accuracy')"
      ],
      "execution_count": null,
      "outputs": []
    },
    {
      "cell_type": "markdown",
      "metadata": {
        "id": "zPvyrUAaQaaz"
      },
      "source": [
        "## Save Model"
      ]
    },
    {
      "cell_type": "code",
      "metadata": {
        "id": "YCvH6P1WnzIw"
      },
      "source": [
        "import tensorflow as tf\n",
        "from keras.models import load_model\n",
        "model.save('Covid_model.h5')"
      ],
      "execution_count": null,
      "outputs": []
    },
    {
      "cell_type": "markdown",
      "metadata": {
        "id": "f_TzQDWhQfqF"
      },
      "source": [
        "## Load Model"
      ]
    },
    {
      "cell_type": "code",
      "metadata": {
        "id": "ysHOT9Cln2HS"
      },
      "source": [
        "import tensorflow as tf \n",
        "model = tf.keras.models.load_model('Covid_model.h5')\n",
        "model.compile(loss='binary_crossentropy',\n",
        "              optimizer='rmsprop',\n",
        "              metrics=['accuracy'])"
      ],
      "execution_count": null,
      "outputs": []
    },
    {
      "cell_type": "markdown",
      "metadata": {
        "id": "OqSqSICiQm3W"
      },
      "source": [
        "## Test #1\n",
        "Insert image to test the model."
      ]
    },
    {
      "cell_type": "code",
      "metadata": {
        "id": "inUTlJibn47w"
      },
      "source": [
        "from keras.preprocessing import image\n",
        "from keras.models import load_model\n",
        "from keras.applications.vgg16 import preprocess_input\n",
        "img = image.load_img('Data/Covid/1-s2.0-S1684118220300682-main.pdf-002-a1.png', target_size=(224, 224))\n",
        "imgplot = plt.imshow(img)\n",
        "x = image.img_to_array(img)\n",
        "x = np.expand_dims(x, axis=0)\n",
        "img_data = preprocess_input(x)\n",
        "classes = model.predict(img_data)\n",
        "New_pred = np.argmax(classes, axis=1)\n",
        "if New_pred==[1]:\n",
        "  print('Prediction: Normal')\n",
        "else:\n",
        "  print('Prediction: Corona')"
      ],
      "execution_count": null,
      "outputs": []
    },
    {
      "cell_type": "markdown",
      "metadata": {
        "id": "fQ3KBvGkQuEm"
      },
      "source": [
        "## Test #2\n",
        "Insert image to test the model with normal picture.\n"
      ]
    },
    {
      "cell_type": "code",
      "metadata": {
        "id": "baDc0autn4_Q"
      },
      "source": [
        "img = image.load_img('Data/Normal/IM-0162-0001.jpeg', target_size=(224, 224))\n",
        "imgplot = plt.imshow(img)\n",
        "x = image.img_to_array(img)\n",
        "x = np.expand_dims(x, axis=0)\n",
        "img_data = preprocess_input(x)\n",
        "classes = model.predict(img_data)\n",
        "New_pred = np.argmax(classes, axis=1)\n",
        "if New_pred==[1]:\n",
        "  print('Prediction: Normal')\n",
        "else:\n",
        "  print('Prediction: Corona')"
      ],
      "execution_count": null,
      "outputs": []
    }
  ]
}